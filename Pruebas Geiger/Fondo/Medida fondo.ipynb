{
 "cells": [
  {
   "cell_type": "code",
   "execution_count": 1,
   "metadata": {},
   "outputs": [],
   "source": [
    "import numpy as np\n",
    "%matplotlib inline\n",
    "import matplotlib.pyplot as plt\n",
    "import pandas as pd"
   ]
  },
  {
   "cell_type": "code",
   "execution_count": 13,
   "metadata": {},
   "outputs": [],
   "source": [
    "distances = [0]\n",
    "V = np.array([])\n",
    "Vstd1 = np.array([])\n",
    "Vstd10 = np.array([])\n",
    "\n",
    "for i in range(1):\n",
    "    df=pd.read_csv('anag1.csv', header=None, squeeze = True)\n",
    "    V = np.append(V,np.mean(df[1:])*5/4095)\n",
    "    \n",
    "    V_1s=[np.mean(df[1:1000])]\n",
    "    \n",
    "    for j in range(299):\n",
    "        V_1s.append(np.mean(df[1000*(j+1):1000*(j+2)]))\n",
    "    \n",
    "    Vstd1 = np.append(Vstd1,np.std(V_1s)*5/4095)\n",
    "    \n",
    "    V_10s=[np.mean(df[1:10000])]\n",
    "    \n",
    "    for j in range(29):\n",
    "        V_10s.append(np.mean(df[10000*(j+1):10000*(j+2)]))\n",
    "    \n",
    "    Vstd10 = np.append(Vstd10,np.std(V_10s)*5/4095)"
   ]
  },
  {
   "cell_type": "code",
   "execution_count": 14,
   "metadata": {},
   "outputs": [],
   "source": [
    "C = np.array([])\n",
    "Cstd1 = np.array([])\n",
    "Cstd10 = np.array([])\n",
    "\n",
    "for i in range(1):\n",
    "\n",
    "    df=pd.read_csv('anag2.csv', header=None, squeeze = True)\n",
    "\n",
    "    Caux = [np.sum(df[1:1000])]\n",
    "\n",
    "    for j in range(299):\n",
    "        Caux.append(np.sum(df[1000*(j+1):1000*(j+2)]))\n",
    "\n",
    "    C = np.append(C,np.mean(Caux))\n",
    "    \n",
    "    Cstd1 = np.append(Cstd1, np.std(Caux))\n",
    "    \n",
    "    Caux10 = []\n",
    "    \n",
    "    for j in range(30):\n",
    "        Caux10.append(np.mean(Caux[10*j:10*(j+1)]))\n",
    "        \n",
    "    Cstd10 = np.append(Cstd10,np.std(Caux10))"
   ]
  },
  {
   "cell_type": "code",
   "execution_count": 5,
   "metadata": {},
   "outputs": [],
   "source": [
    "d = np.array(distances)"
   ]
  },
  {
   "cell_type": "code",
   "execution_count": 15,
   "metadata": {},
   "outputs": [
    {
     "data": {
      "text/plain": [
       "array([0.06372852])"
      ]
     },
     "execution_count": 15,
     "metadata": {},
     "output_type": "execute_result"
    }
   ],
   "source": [
    "V"
   ]
  },
  {
   "cell_type": "code",
   "execution_count": 16,
   "metadata": {},
   "outputs": [
    {
     "data": {
      "text/plain": [
       "array([0.01223933])"
      ]
     },
     "execution_count": 16,
     "metadata": {},
     "output_type": "execute_result"
    }
   ],
   "source": [
    "Vstd10"
   ]
  },
  {
   "cell_type": "code",
   "execution_count": null,
   "metadata": {},
   "outputs": [],
   "source": []
  }
 ],
 "metadata": {
  "kernelspec": {
   "display_name": "Python 3",
   "language": "python",
   "name": "python3"
  },
  "language_info": {
   "codemirror_mode": {
    "name": "ipython",
    "version": 3
   },
   "file_extension": ".py",
   "mimetype": "text/x-python",
   "name": "python",
   "nbconvert_exporter": "python",
   "pygments_lexer": "ipython3",
   "version": "3.6.4"
  }
 },
 "nbformat": 4,
 "nbformat_minor": 2
}
