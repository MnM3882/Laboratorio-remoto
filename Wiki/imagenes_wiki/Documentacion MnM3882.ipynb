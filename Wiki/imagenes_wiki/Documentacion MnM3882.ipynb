{
 "cells": [
  {
   "cell_type": "markdown",
   "metadata": {},
   "source": [
    "# Laboratorio remoto\n",
    "Se desea realizar el montaje de dos experimentos relacionados con radiación gamma que serán monitoreados y controlados de forma remota.\n",
    "\n",
    "### Descripción de los experimentos\n",
    "\n",
    "- **Primer experimento**    \n",
    "    \n",
    "Se determina la relación entre la intensidad de la radiación gamma y la distancia que separa al detector de la muestra radiactiva. \n",
    "\n",
    "El detector que se utilizará es un detector de cámara de gas de tipo Geiger-Müller, este detector determina tasa de dosis, esta variable es proporcional a la intensidad de la radiación. \n",
    "\n",
    "\n",
    "El usuario verá en pantalla la imagen en tiempo real del experimento, el valor del voltaje aplicado al detector, la distancia entre la muestra y el detector, la ventana temporal en la que se llevará a cabo la medida y la intensidad registrada. Por otro lado, el estudiante fijará la distancia detector-muestra. Al finalizar la experiencia, los datos serán almacenados para que el usuario pueda realizar el análisis que desee.\n",
    "\n",
    "- **Segundo experimento**\n",
    "\n",
    "Se observa y caracteriza la atenuación de la radiación debido a su paso a través de la materia, usando láminas de Al y Pb. \n",
    "\n",
    "Manteniendo la distancia detector-muestra fija, el usuario interpone en este espacio láminas de dos materiales diferentes (aluminio y plomo) y selecciona el espesor de la lámina utilizada. En este caso, se estudia la relación existente entre el tipo de material y el espesor de este, con la intensidad de la radiación. \n",
    "\n",
    "\n",
    "Nuevamente, el usuario verá en pantalla la imagen en tiempo real del experimento, el valor del voltaje aplicado al detector, la distancia entre la muestra y el detector, el tipo de material de la lámina que se está usando como obstáculo y el espesor del mismo, la ventana temporal en la que se llevará a cabo la medida y la intensidad registrada. Mientras tanto, el estudiante fijará la distancia detector-muestra, el material de la lámina obstáculo y su espesor. Una vez culminado el tiempo de medida, los datos serán almacenados para que el usuario pueda realizar el análisis que desee.\n",
    "\n",
    "### Desarrollo del proyecto\n",
    "- **Tarjeta de desarrollo DemoQE128**\n",
    "\n",
    "En esta tarjeta está instalado el Microcontrolador de *freescale* MC9S08QE128CLH. Esta tarjeta permite el control de todo el sistema, se le conectan las señales de los sensores, ella las digitaliza y las envia a la computadora por puerto serial. Así mismo, entrega las señales de giro a los motores y recibe las instrucciones del usuario para cambiar los parámetros del experimento.\n",
    "\n",
    "\n",
    "- **Sensores**\n",
    "    - Sensor de proximidad. Sharp GP2Y0A21YK [DataSheet][Sharp]\n",
    "    \n",
    "    Utilizado para determinar la distancia entre la muestra y el detector, su salida es analógica.\n",
    "    \n",
    "    - Detector de cámara de gas Geiger-Müller\n",
    "    \n",
    "    Permite medir la radiactividad de un objeto o lugar. El detector está formado por un tubo con un fino hilo metálico a lo largo de su eje (como un capacitor cilíndrico), el espacio entre ellos está aislado y relleno de un gas y el hilo central está conectado a alto voltaje, en este caso 450V, con respecto al tubo. Cuando un fotón de alta energía (gamma) atraviesa el tubo, éste ioniza el gas y los iones negativos se desplazan hacia el ánodo y los positivos hacia el cátodo. En su camino hacia el ánodo, los electrones continuan ionizando el gas y liberando aún más electrones que continuan con el proceso, esto se convierte en una avalancha que produce un pulso de corriente detectable. Por cada partícula que llega se produce un pulso idéntico, esto permite contar las partículas y es precisamente lo que se pretende. \n",
    "    \n",
    "    Este sensor viene acompañado de un sistema electrónico que indica, con la deflexión de la aguja de un galvanómetro, los niveles de tasa de exposición. \n",
    "    \n",
    "    ![Esquematico Geiger-Muller_Identificado](imagenes_wiki/Esquematico Geiger-Muller_Identificado.png)\n",
    "    \n",
    "    De este sistema se tomarán dos señales\n",
    "    \n",
    "    **1)** Digital. Pulsos cuadrados de -12V de amplitud \n",
    "    \n",
    "    ![Punto A](imagenes_wiki/Punto A.jpg) \n",
    "    \n",
    "    Esta señal es empleada para contar la cantidad de fotones gamma que llegan al detector.\n",
    "    \n",
    "    **2)** Analógica, lectura de voltaje en el galvanómetro, esta señal es proporcional a los niveles de tasa de dosis que se registran en el equipo. Su amplitud está entre 200mV (sin fuente radiactiva) y 2.5V (con fuente radiactiva a la mínima distancia).\n",
    "    \n",
    "    - Láser con Fototransistor\n",
    "    \n",
    "    En el segundo experimento se van a interponer láminas de dos metales de distintos espesores y estos estarán montados en una noria (rueda giratoria) en un orden determinado, por cada trozo de metal habrán un agujero que dejará pasar la luz del láser  y desde la posición inicial (sin obstáculo) hasta la posición del obstáculo especificado se contarán la cantidad de veces que el haz de luz atraviesa la lámina y así se sabrá si se está en la posición indicada.\n",
    "    \n",
    "    Cuando no hay obstáculo entre el láser y el fototransistor se registran 200mV, al interponer un objeto se registran 5V. \n",
    "    \n",
    "[Sharp]:https://www.sparkfun.com/datasheets/Components/GP2Y0A21YK.pdf\n",
    "\n",
    "- **Motores paso a paso unipolares**\n",
    "\n",
    "Se utilizarán dos motores paso a paso unipolares. Uno acoplado a la noria donde se encuentral las láminas de Al y Pb para hacerla girar y cambiar de lámina, otro acoplado a un riel que permitirá aumentar o disminuir la distancia detector muestra. Para controlar los motores es necesario utilizar un integrado que contenga por lo menos 4 darlington en su interior, uno por cada bobina de los motores, como es el caso de [ULN2064][ULN2064] o [ULN2003AN][ULN2003AN] y hacerles llegar desde el DemoQE128 las señales de giro. \n",
    "[ULN2064]:http://www.st.com/content/ccc/resource/technical/document/datasheet/07/e7/0f/b6/ef/2d/41/88/CD00000177.pdf/files/CD00000177.pdf/jcr:content/translations/en.CD00000177.pdf\n",
    "[ULN2003AN]:http://www.ti.com/lit/ds/symlink/uln2003a.pdf\n",
    "\n"
   ]
  },
  {
   "cell_type": "code",
   "execution_count": 2,
   "metadata": {
    "scrolled": true
   },
   "outputs": [
    {
     "data": {
      "text/plain": [
       "4"
      ]
     },
     "execution_count": 2,
     "metadata": {},
     "output_type": "execute_result"
    }
   ],
   "source": [
    "#Blablablablablabla\n",
    "2+2"
   ]
  },
  {
   "cell_type": "code",
   "execution_count": null,
   "metadata": {},
   "outputs": [],
   "source": []
  }
 ],
 "metadata": {
  "kernelspec": {
   "display_name": "Python 3",
   "language": "python",
   "name": "python3"
  },
  "language_info": {
   "codemirror_mode": {
    "name": "ipython",
    "version": 3
   },
   "file_extension": ".py",
   "mimetype": "text/x-python",
   "name": "python",
   "nbconvert_exporter": "python",
   "pygments_lexer": "ipython3",
   "version": "3.5.2"
  }
 },
 "nbformat": 4,
 "nbformat_minor": 2
}
